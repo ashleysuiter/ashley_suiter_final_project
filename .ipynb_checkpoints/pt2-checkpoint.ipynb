{
 "cells": [
  {
   "cell_type": "markdown",
   "metadata": {},
   "source": [
    "# Final Project Part 2 - Exploratory Data Analysis"
   ]
  },
  {
   "cell_type": "markdown",
   "metadata": {},
   "source": [
    "## 1. Import Python Libraries"
   ]
  },
  {
   "cell_type": "code",
   "execution_count": 118,
   "metadata": {},
   "outputs": [],
   "source": [
    "import pandas as pd\n",
    "import matplotlib.pyplot as plt\n",
    "import numpy as np\n",
    "import seaborn as sns\n",
    "from pathlib import Path\n",
    "from datetime import datetime\n",
    "\n",
    "%matplotlib inline"
   ]
  },
  {
   "cell_type": "markdown",
   "metadata": {},
   "source": [
    "## 2. Load Data to DataFrame"
   ]
  },
  {
   "cell_type": "code",
   "execution_count": 119,
   "metadata": {},
   "outputs": [
    {
     "data": {
      "text/html": [
       "<div>\n",
       "<style scoped>\n",
       "    .dataframe tbody tr th:only-of-type {\n",
       "        vertical-align: middle;\n",
       "    }\n",
       "\n",
       "    .dataframe tbody tr th {\n",
       "        vertical-align: top;\n",
       "    }\n",
       "\n",
       "    .dataframe thead th {\n",
       "        text-align: right;\n",
       "    }\n",
       "</style>\n",
       "<table border=\"1\" class=\"dataframe\">\n",
       "  <thead>\n",
       "    <tr style=\"text-align: right;\">\n",
       "      <th></th>\n",
       "      <th>ISO</th>\n",
       "      <th>EVENT_ID_CNTY</th>\n",
       "      <th>EVENT_ID_NO_CNTY</th>\n",
       "      <th>EVENT_DATE</th>\n",
       "      <th>YEAR</th>\n",
       "      <th>TIME_PRECISION</th>\n",
       "      <th>EVENT_TYPE</th>\n",
       "      <th>SUB_EVENT_TYPE</th>\n",
       "      <th>ACTOR1</th>\n",
       "      <th>ASSOC_ACTOR_1</th>\n",
       "      <th>...</th>\n",
       "      <th>ADMIN3</th>\n",
       "      <th>LOCATION</th>\n",
       "      <th>LATITUDE</th>\n",
       "      <th>LONGITUDE</th>\n",
       "      <th>GEO_PRECISION</th>\n",
       "      <th>SOURCE</th>\n",
       "      <th>SOURCE_SCALE</th>\n",
       "      <th>NOTES</th>\n",
       "      <th>FATALITIES</th>\n",
       "      <th>TIMESTAMP</th>\n",
       "    </tr>\n",
       "  </thead>\n",
       "  <tbody>\n",
       "    <tr>\n",
       "      <th>0</th>\n",
       "      <td>48</td>\n",
       "      <td>BHR323</td>\n",
       "      <td>323</td>\n",
       "      <td>01-January-2016</td>\n",
       "      <td>2016</td>\n",
       "      <td>1</td>\n",
       "      <td>Protests</td>\n",
       "      <td>Peaceful protest</td>\n",
       "      <td>Protesters (Bahrain)</td>\n",
       "      <td>NaN</td>\n",
       "      <td>...</td>\n",
       "      <td>NaN</td>\n",
       "      <td>Ad Diraz</td>\n",
       "      <td>26.218</td>\n",
       "      <td>50.471</td>\n",
       "      <td>1</td>\n",
       "      <td>Press TV</td>\n",
       "      <td>National</td>\n",
       "      <td>Small protest have been held in the village of...</td>\n",
       "      <td>0</td>\n",
       "      <td>1552577233</td>\n",
       "    </tr>\n",
       "    <tr>\n",
       "      <th>1</th>\n",
       "      <td>48</td>\n",
       "      <td>BHR324</td>\n",
       "      <td>324</td>\n",
       "      <td>01-January-2016</td>\n",
       "      <td>2016</td>\n",
       "      <td>1</td>\n",
       "      <td>Protests</td>\n",
       "      <td>Peaceful protest</td>\n",
       "      <td>Protesters (Bahrain)</td>\n",
       "      <td>NaN</td>\n",
       "      <td>...</td>\n",
       "      <td>NaN</td>\n",
       "      <td>Al Maamir</td>\n",
       "      <td>26.133</td>\n",
       "      <td>50.609</td>\n",
       "      <td>1</td>\n",
       "      <td>Press TV</td>\n",
       "      <td>National</td>\n",
       "      <td>Small protest have been held in the village of...</td>\n",
       "      <td>0</td>\n",
       "      <td>1552577233</td>\n",
       "    </tr>\n",
       "    <tr>\n",
       "      <th>2</th>\n",
       "      <td>48</td>\n",
       "      <td>BHR325</td>\n",
       "      <td>325</td>\n",
       "      <td>01-January-2016</td>\n",
       "      <td>2016</td>\n",
       "      <td>1</td>\n",
       "      <td>Protests</td>\n",
       "      <td>Peaceful protest</td>\n",
       "      <td>Protesters (Bahrain)</td>\n",
       "      <td>NaN</td>\n",
       "      <td>...</td>\n",
       "      <td>NaN</td>\n",
       "      <td>Nabih Sehla</td>\n",
       "      <td>26.183</td>\n",
       "      <td>50.585</td>\n",
       "      <td>1</td>\n",
       "      <td>Press TV</td>\n",
       "      <td>National</td>\n",
       "      <td>Small protest have been held in the village of...</td>\n",
       "      <td>0</td>\n",
       "      <td>1552577233</td>\n",
       "    </tr>\n",
       "    <tr>\n",
       "      <th>3</th>\n",
       "      <td>48</td>\n",
       "      <td>BHR327</td>\n",
       "      <td>327</td>\n",
       "      <td>01-January-2016</td>\n",
       "      <td>2016</td>\n",
       "      <td>1</td>\n",
       "      <td>Protests</td>\n",
       "      <td>Excessive force against protesters</td>\n",
       "      <td>Protesters (Bahrain)</td>\n",
       "      <td>NaN</td>\n",
       "      <td>...</td>\n",
       "      <td>NaN</td>\n",
       "      <td>Abu Saybi</td>\n",
       "      <td>26.218</td>\n",
       "      <td>50.507</td>\n",
       "      <td>1</td>\n",
       "      <td>Middle East Eye</td>\n",
       "      <td>International</td>\n",
       "      <td>Bahrainis took part in an anti-regime protest ...</td>\n",
       "      <td>0</td>\n",
       "      <td>1552577233</td>\n",
       "    </tr>\n",
       "    <tr>\n",
       "      <th>4</th>\n",
       "      <td>48</td>\n",
       "      <td>BHR328</td>\n",
       "      <td>328</td>\n",
       "      <td>01-January-2016</td>\n",
       "      <td>2016</td>\n",
       "      <td>1</td>\n",
       "      <td>Protests</td>\n",
       "      <td>Excessive force against protesters</td>\n",
       "      <td>Protesters (Bahrain)</td>\n",
       "      <td>NaN</td>\n",
       "      <td>...</td>\n",
       "      <td>NaN</td>\n",
       "      <td>Ash Shakhurah</td>\n",
       "      <td>26.215</td>\n",
       "      <td>50.507</td>\n",
       "      <td>1</td>\n",
       "      <td>Middle East Eye</td>\n",
       "      <td>International</td>\n",
       "      <td>Bahrainis took part in an anti-regime protest ...</td>\n",
       "      <td>0</td>\n",
       "      <td>1552577233</td>\n",
       "    </tr>\n",
       "  </tbody>\n",
       "</table>\n",
       "<p>5 rows × 29 columns</p>\n",
       "</div>"
      ],
      "text/plain": [
       "   ISO EVENT_ID_CNTY  EVENT_ID_NO_CNTY       EVENT_DATE  YEAR  TIME_PRECISION  \\\n",
       "0   48        BHR323               323  01-January-2016  2016               1   \n",
       "1   48        BHR324               324  01-January-2016  2016               1   \n",
       "2   48        BHR325               325  01-January-2016  2016               1   \n",
       "3   48        BHR327               327  01-January-2016  2016               1   \n",
       "4   48        BHR328               328  01-January-2016  2016               1   \n",
       "\n",
       "  EVENT_TYPE                      SUB_EVENT_TYPE                ACTOR1  \\\n",
       "0   Protests                    Peaceful protest  Protesters (Bahrain)   \n",
       "1   Protests                    Peaceful protest  Protesters (Bahrain)   \n",
       "2   Protests                    Peaceful protest  Protesters (Bahrain)   \n",
       "3   Protests  Excessive force against protesters  Protesters (Bahrain)   \n",
       "4   Protests  Excessive force against protesters  Protesters (Bahrain)   \n",
       "\n",
       "  ASSOC_ACTOR_1  ...  ADMIN3       LOCATION LATITUDE  LONGITUDE  \\\n",
       "0           NaN  ...     NaN       Ad Diraz   26.218     50.471   \n",
       "1           NaN  ...     NaN      Al Maamir   26.133     50.609   \n",
       "2           NaN  ...     NaN    Nabih Sehla   26.183     50.585   \n",
       "3           NaN  ...     NaN      Abu Saybi   26.218     50.507   \n",
       "4           NaN  ...     NaN  Ash Shakhurah   26.215     50.507   \n",
       "\n",
       "   GEO_PRECISION           SOURCE   SOURCE_SCALE  \\\n",
       "0              1         Press TV       National   \n",
       "1              1         Press TV       National   \n",
       "2              1         Press TV       National   \n",
       "3              1  Middle East Eye  International   \n",
       "4              1  Middle East Eye  International   \n",
       "\n",
       "                                               NOTES FATALITIES   TIMESTAMP  \n",
       "0  Small protest have been held in the village of...          0  1552577233  \n",
       "1  Small protest have been held in the village of...          0  1552577233  \n",
       "2  Small protest have been held in the village of...          0  1552577233  \n",
       "3  Bahrainis took part in an anti-regime protest ...          0  1552577233  \n",
       "4  Bahrainis took part in an anti-regime protest ...          0  1552577233  \n",
       "\n",
       "[5 rows x 29 columns]"
      ]
     },
     "execution_count": 119,
     "metadata": {},
     "output_type": "execute_result"
    }
   ],
   "source": [
    "ACLED = pd.read_csv('C:/Users/Ashley/Desktop/General_Assembly/final_project-master/ashley_suiter_final_project/data/MiddleEast_2016-2019_Apr20.csv', encoding='latin-1', low_memory=False)\n",
    "ACLED.head()"
   ]
  },
  {
   "cell_type": "markdown",
   "metadata": {},
   "source": [
    "## 3. Exploring and Manipulating the Dataset"
   ]
  },
  {
   "cell_type": "markdown",
   "metadata": {},
   "source": [
    "## 3.1 Understanding the size, structure and schema of the dataset"
   ]
  },
  {
   "cell_type": "code",
   "execution_count": 120,
   "metadata": {},
   "outputs": [
    {
     "data": {
      "text/plain": [
       "(133959, 29)"
      ]
     },
     "execution_count": 120,
     "metadata": {},
     "output_type": "execute_result"
    }
   ],
   "source": [
    "# View no of rows and columns\n",
    "ACLED.shape"
   ]
  },
  {
   "cell_type": "markdown",
   "metadata": {},
   "source": [
    "The dataset contains a total of **133,959 records** & **29 attributes**"
   ]
  },
  {
   "cell_type": "code",
   "execution_count": 121,
   "metadata": {},
   "outputs": [
    {
     "data": {
      "text/plain": [
       "RangeIndex(start=0, stop=133959, step=1)"
      ]
     },
     "execution_count": 121,
     "metadata": {},
     "output_type": "execute_result"
    }
   ],
   "source": [
    "#View row index\n",
    "ACLED.index"
   ]
  },
  {
   "cell_type": "markdown",
   "metadata": {},
   "source": [
    "The index is numeric from 0 to 1323958"
   ]
  },
  {
   "cell_type": "code",
   "execution_count": 122,
   "metadata": {},
   "outputs": [
    {
     "name": "stdout",
     "output_type": "stream",
     "text": [
      "<class 'pandas.core.frame.DataFrame'>\n",
      "RangeIndex: 133959 entries, 0 to 133958\n",
      "Data columns (total 29 columns):\n",
      "ISO                 133959 non-null int64\n",
      "EVENT_ID_CNTY       133959 non-null object\n",
      "EVENT_ID_NO_CNTY    133959 non-null int64\n",
      "EVENT_DATE          133959 non-null object\n",
      "YEAR                133959 non-null int64\n",
      "TIME_PRECISION      133959 non-null int64\n",
      "EVENT_TYPE          133959 non-null object\n",
      "SUB_EVENT_TYPE      133959 non-null object\n",
      "ACTOR1              133959 non-null object\n",
      "ASSOC_ACTOR_1       31399 non-null object\n",
      "INTER1              133959 non-null int64\n",
      "ACTOR2              86843 non-null object\n",
      "ASSOC_ACTOR_2       15194 non-null object\n",
      "INTER2              133959 non-null int64\n",
      "INTERACTION         133959 non-null int64\n",
      "REGION              133959 non-null object\n",
      "COUNTRY             133959 non-null object\n",
      "ADMIN1              133959 non-null object\n",
      "ADMIN2              132427 non-null object\n",
      "ADMIN3              61254 non-null object\n",
      "LOCATION            133959 non-null object\n",
      "LATITUDE            133959 non-null float64\n",
      "LONGITUDE           133959 non-null float64\n",
      "GEO_PRECISION       133959 non-null int64\n",
      "SOURCE              133959 non-null object\n",
      "SOURCE_SCALE        133959 non-null object\n",
      "NOTES               133959 non-null object\n",
      "FATALITIES          133959 non-null int64\n",
      "TIMESTAMP           133959 non-null int64\n",
      "dtypes: float64(2), int64(10), object(17)\n",
      "memory usage: 29.6+ MB\n"
     ]
    }
   ],
   "source": [
    "# View a concise summary of data schema\n",
    "ACLED.info()"
   ]
  },
  {
   "cell_type": "code",
   "execution_count": 123,
   "metadata": {},
   "outputs": [
    {
     "data": {
      "text/plain": [
       "Index(['ISO', 'EVENT_ID_CNTY', 'EVENT_ID_NO_CNTY', 'EVENT_DATE', 'YEAR',\n",
       "       'TIME_PRECISION', 'EVENT_TYPE', 'SUB_EVENT_TYPE', 'ACTOR1',\n",
       "       'ASSOC_ACTOR_1', 'INTER1', 'ACTOR2', 'ASSOC_ACTOR_2', 'INTER2',\n",
       "       'INTERACTION', 'REGION', 'COUNTRY', 'ADMIN1', 'ADMIN2', 'ADMIN3',\n",
       "       'LOCATION', 'LATITUDE', 'LONGITUDE', 'GEO_PRECISION', 'SOURCE',\n",
       "       'SOURCE_SCALE', 'NOTES', 'FATALITIES', 'TIMESTAMP'],\n",
       "      dtype='object')"
      ]
     },
     "execution_count": 123,
     "metadata": {},
     "output_type": "execute_result"
    }
   ],
   "source": [
    "# View column names\n",
    "ACLED.columns"
   ]
  },
  {
   "cell_type": "code",
   "execution_count": 124,
   "metadata": {},
   "outputs": [
    {
     "data": {
      "text/plain": [
       "ISO                   int64\n",
       "EVENT_ID_CNTY        object\n",
       "EVENT_ID_NO_CNTY      int64\n",
       "EVENT_DATE           object\n",
       "YEAR                  int64\n",
       "TIME_PRECISION        int64\n",
       "EVENT_TYPE           object\n",
       "SUB_EVENT_TYPE       object\n",
       "ACTOR1               object\n",
       "ASSOC_ACTOR_1        object\n",
       "INTER1                int64\n",
       "ACTOR2               object\n",
       "ASSOC_ACTOR_2        object\n",
       "INTER2                int64\n",
       "INTERACTION           int64\n",
       "REGION               object\n",
       "COUNTRY              object\n",
       "ADMIN1               object\n",
       "ADMIN2               object\n",
       "ADMIN3               object\n",
       "LOCATION             object\n",
       "LATITUDE            float64\n",
       "LONGITUDE           float64\n",
       "GEO_PRECISION         int64\n",
       "SOURCE               object\n",
       "SOURCE_SCALE         object\n",
       "NOTES                object\n",
       "FATALITIES            int64\n",
       "TIMESTAMP             int64\n",
       "dtype: object"
      ]
     },
     "execution_count": 124,
     "metadata": {},
     "output_type": "execute_result"
    }
   ],
   "source": [
    "# View data types\n",
    "ACLED.dtypes"
   ]
  },
  {
   "cell_type": "markdown",
   "metadata": {},
   "source": [
    "The dataset contains information about conflicts including type of conflict, location, and actor. Due to the fields of interest being non-numeric dummy transformation will need to be performed. Additionally, the DATE field is represented as an object and will need to be transformed into a a datetime object."
   ]
  },
  {
   "cell_type": "markdown",
   "metadata": {},
   "source": [
    "## 3.2 Understanding the data"
   ]
  },
  {
   "cell_type": "markdown",
   "metadata": {},
   "source": [
    "### 3.2.1 General summary of the dataset"
   ]
  },
  {
   "cell_type": "code",
   "execution_count": 125,
   "metadata": {},
   "outputs": [
    {
     "data": {
      "text/html": [
       "<div>\n",
       "<style scoped>\n",
       "    .dataframe tbody tr th:only-of-type {\n",
       "        vertical-align: middle;\n",
       "    }\n",
       "\n",
       "    .dataframe tbody tr th {\n",
       "        vertical-align: top;\n",
       "    }\n",
       "\n",
       "    .dataframe thead th {\n",
       "        text-align: right;\n",
       "    }\n",
       "</style>\n",
       "<table border=\"1\" class=\"dataframe\">\n",
       "  <thead>\n",
       "    <tr style=\"text-align: right;\">\n",
       "      <th></th>\n",
       "      <th>ISO</th>\n",
       "      <th>EVENT_ID_CNTY</th>\n",
       "      <th>EVENT_ID_NO_CNTY</th>\n",
       "      <th>EVENT_DATE</th>\n",
       "      <th>YEAR</th>\n",
       "      <th>TIME_PRECISION</th>\n",
       "      <th>EVENT_TYPE</th>\n",
       "      <th>SUB_EVENT_TYPE</th>\n",
       "      <th>ACTOR1</th>\n",
       "      <th>ASSOC_ACTOR_1</th>\n",
       "      <th>...</th>\n",
       "      <th>ADMIN3</th>\n",
       "      <th>LOCATION</th>\n",
       "      <th>LATITUDE</th>\n",
       "      <th>LONGITUDE</th>\n",
       "      <th>GEO_PRECISION</th>\n",
       "      <th>SOURCE</th>\n",
       "      <th>SOURCE_SCALE</th>\n",
       "      <th>NOTES</th>\n",
       "      <th>FATALITIES</th>\n",
       "      <th>TIMESTAMP</th>\n",
       "    </tr>\n",
       "  </thead>\n",
       "  <tbody>\n",
       "    <tr>\n",
       "      <th>0</th>\n",
       "      <td>48</td>\n",
       "      <td>BHR323</td>\n",
       "      <td>323</td>\n",
       "      <td>01-January-2016</td>\n",
       "      <td>2016</td>\n",
       "      <td>1</td>\n",
       "      <td>Protests</td>\n",
       "      <td>Peaceful protest</td>\n",
       "      <td>Protesters (Bahrain)</td>\n",
       "      <td>NaN</td>\n",
       "      <td>...</td>\n",
       "      <td>NaN</td>\n",
       "      <td>Ad Diraz</td>\n",
       "      <td>26.218</td>\n",
       "      <td>50.471</td>\n",
       "      <td>1</td>\n",
       "      <td>Press TV</td>\n",
       "      <td>National</td>\n",
       "      <td>Small protest have been held in the village of...</td>\n",
       "      <td>0</td>\n",
       "      <td>1552577233</td>\n",
       "    </tr>\n",
       "    <tr>\n",
       "      <th>1</th>\n",
       "      <td>48</td>\n",
       "      <td>BHR324</td>\n",
       "      <td>324</td>\n",
       "      <td>01-January-2016</td>\n",
       "      <td>2016</td>\n",
       "      <td>1</td>\n",
       "      <td>Protests</td>\n",
       "      <td>Peaceful protest</td>\n",
       "      <td>Protesters (Bahrain)</td>\n",
       "      <td>NaN</td>\n",
       "      <td>...</td>\n",
       "      <td>NaN</td>\n",
       "      <td>Al Maamir</td>\n",
       "      <td>26.133</td>\n",
       "      <td>50.609</td>\n",
       "      <td>1</td>\n",
       "      <td>Press TV</td>\n",
       "      <td>National</td>\n",
       "      <td>Small protest have been held in the village of...</td>\n",
       "      <td>0</td>\n",
       "      <td>1552577233</td>\n",
       "    </tr>\n",
       "    <tr>\n",
       "      <th>2</th>\n",
       "      <td>48</td>\n",
       "      <td>BHR325</td>\n",
       "      <td>325</td>\n",
       "      <td>01-January-2016</td>\n",
       "      <td>2016</td>\n",
       "      <td>1</td>\n",
       "      <td>Protests</td>\n",
       "      <td>Peaceful protest</td>\n",
       "      <td>Protesters (Bahrain)</td>\n",
       "      <td>NaN</td>\n",
       "      <td>...</td>\n",
       "      <td>NaN</td>\n",
       "      <td>Nabih Sehla</td>\n",
       "      <td>26.183</td>\n",
       "      <td>50.585</td>\n",
       "      <td>1</td>\n",
       "      <td>Press TV</td>\n",
       "      <td>National</td>\n",
       "      <td>Small protest have been held in the village of...</td>\n",
       "      <td>0</td>\n",
       "      <td>1552577233</td>\n",
       "    </tr>\n",
       "    <tr>\n",
       "      <th>3</th>\n",
       "      <td>48</td>\n",
       "      <td>BHR327</td>\n",
       "      <td>327</td>\n",
       "      <td>01-January-2016</td>\n",
       "      <td>2016</td>\n",
       "      <td>1</td>\n",
       "      <td>Protests</td>\n",
       "      <td>Excessive force against protesters</td>\n",
       "      <td>Protesters (Bahrain)</td>\n",
       "      <td>NaN</td>\n",
       "      <td>...</td>\n",
       "      <td>NaN</td>\n",
       "      <td>Abu Saybi</td>\n",
       "      <td>26.218</td>\n",
       "      <td>50.507</td>\n",
       "      <td>1</td>\n",
       "      <td>Middle East Eye</td>\n",
       "      <td>International</td>\n",
       "      <td>Bahrainis took part in an anti-regime protest ...</td>\n",
       "      <td>0</td>\n",
       "      <td>1552577233</td>\n",
       "    </tr>\n",
       "    <tr>\n",
       "      <th>4</th>\n",
       "      <td>48</td>\n",
       "      <td>BHR328</td>\n",
       "      <td>328</td>\n",
       "      <td>01-January-2016</td>\n",
       "      <td>2016</td>\n",
       "      <td>1</td>\n",
       "      <td>Protests</td>\n",
       "      <td>Excessive force against protesters</td>\n",
       "      <td>Protesters (Bahrain)</td>\n",
       "      <td>NaN</td>\n",
       "      <td>...</td>\n",
       "      <td>NaN</td>\n",
       "      <td>Ash Shakhurah</td>\n",
       "      <td>26.215</td>\n",
       "      <td>50.507</td>\n",
       "      <td>1</td>\n",
       "      <td>Middle East Eye</td>\n",
       "      <td>International</td>\n",
       "      <td>Bahrainis took part in an anti-regime protest ...</td>\n",
       "      <td>0</td>\n",
       "      <td>1552577233</td>\n",
       "    </tr>\n",
       "  </tbody>\n",
       "</table>\n",
       "<p>5 rows × 29 columns</p>\n",
       "</div>"
      ],
      "text/plain": [
       "   ISO EVENT_ID_CNTY  EVENT_ID_NO_CNTY       EVENT_DATE  YEAR  TIME_PRECISION  \\\n",
       "0   48        BHR323               323  01-January-2016  2016               1   \n",
       "1   48        BHR324               324  01-January-2016  2016               1   \n",
       "2   48        BHR325               325  01-January-2016  2016               1   \n",
       "3   48        BHR327               327  01-January-2016  2016               1   \n",
       "4   48        BHR328               328  01-January-2016  2016               1   \n",
       "\n",
       "  EVENT_TYPE                      SUB_EVENT_TYPE                ACTOR1  \\\n",
       "0   Protests                    Peaceful protest  Protesters (Bahrain)   \n",
       "1   Protests                    Peaceful protest  Protesters (Bahrain)   \n",
       "2   Protests                    Peaceful protest  Protesters (Bahrain)   \n",
       "3   Protests  Excessive force against protesters  Protesters (Bahrain)   \n",
       "4   Protests  Excessive force against protesters  Protesters (Bahrain)   \n",
       "\n",
       "  ASSOC_ACTOR_1  ...  ADMIN3       LOCATION LATITUDE  LONGITUDE  \\\n",
       "0           NaN  ...     NaN       Ad Diraz   26.218     50.471   \n",
       "1           NaN  ...     NaN      Al Maamir   26.133     50.609   \n",
       "2           NaN  ...     NaN    Nabih Sehla   26.183     50.585   \n",
       "3           NaN  ...     NaN      Abu Saybi   26.218     50.507   \n",
       "4           NaN  ...     NaN  Ash Shakhurah   26.215     50.507   \n",
       "\n",
       "   GEO_PRECISION           SOURCE   SOURCE_SCALE  \\\n",
       "0              1         Press TV       National   \n",
       "1              1         Press TV       National   \n",
       "2              1         Press TV       National   \n",
       "3              1  Middle East Eye  International   \n",
       "4              1  Middle East Eye  International   \n",
       "\n",
       "                                               NOTES FATALITIES   TIMESTAMP  \n",
       "0  Small protest have been held in the village of...          0  1552577233  \n",
       "1  Small protest have been held in the village of...          0  1552577233  \n",
       "2  Small protest have been held in the village of...          0  1552577233  \n",
       "3  Bahrainis took part in an anti-regime protest ...          0  1552577233  \n",
       "4  Bahrainis took part in an anti-regime protest ...          0  1552577233  \n",
       "\n",
       "[5 rows x 29 columns]"
      ]
     },
     "execution_count": 125,
     "metadata": {},
     "output_type": "execute_result"
    }
   ],
   "source": [
    "ACLED.head()"
   ]
  },
  {
   "cell_type": "code",
   "execution_count": 126,
   "metadata": {},
   "outputs": [
    {
     "data": {
      "text/html": [
       "<div>\n",
       "<style scoped>\n",
       "    .dataframe tbody tr th:only-of-type {\n",
       "        vertical-align: middle;\n",
       "    }\n",
       "\n",
       "    .dataframe tbody tr th {\n",
       "        vertical-align: top;\n",
       "    }\n",
       "\n",
       "    .dataframe thead th {\n",
       "        text-align: right;\n",
       "    }\n",
       "</style>\n",
       "<table border=\"1\" class=\"dataframe\">\n",
       "  <thead>\n",
       "    <tr style=\"text-align: right;\">\n",
       "      <th></th>\n",
       "      <th>ACTOR1</th>\n",
       "      <th>ASSOC_ACTOR_1</th>\n",
       "      <th>INTER1</th>\n",
       "      <th>ACTOR2</th>\n",
       "      <th>ASSOC_ACTOR_2</th>\n",
       "      <th>INTER2</th>\n",
       "      <th>INTERACTION</th>\n",
       "      <th>REGION</th>\n",
       "      <th>COUNTRY</th>\n",
       "      <th>ADMIN1</th>\n",
       "      <th>ADMIN2</th>\n",
       "      <th>ADMIN3</th>\n",
       "    </tr>\n",
       "  </thead>\n",
       "  <tbody>\n",
       "    <tr>\n",
       "      <th>133954</th>\n",
       "      <td>Military Forces of Yemen (2016-) Supreme Polit...</td>\n",
       "      <td>NaN</td>\n",
       "      <td>1</td>\n",
       "      <td>National Resistance Forces</td>\n",
       "      <td>Giants Brigade</td>\n",
       "      <td>3</td>\n",
       "      <td>13</td>\n",
       "      <td>Middle East</td>\n",
       "      <td>Yemen</td>\n",
       "      <td>Al Hudaydah</td>\n",
       "      <td>At Tuhayat</td>\n",
       "      <td>NaN</td>\n",
       "    </tr>\n",
       "    <tr>\n",
       "      <th>133955</th>\n",
       "      <td>National Resistance Forces</td>\n",
       "      <td>NaN</td>\n",
       "      <td>3</td>\n",
       "      <td>NaN</td>\n",
       "      <td>NaN</td>\n",
       "      <td>0</td>\n",
       "      <td>30</td>\n",
       "      <td>Middle East</td>\n",
       "      <td>Yemen</td>\n",
       "      <td>Al Hudaydah</td>\n",
       "      <td>Al Hali</td>\n",
       "      <td>NaN</td>\n",
       "    </tr>\n",
       "    <tr>\n",
       "      <th>133956</th>\n",
       "      <td>National Resistance Forces</td>\n",
       "      <td>NaN</td>\n",
       "      <td>3</td>\n",
       "      <td>Civilians (Yemen)</td>\n",
       "      <td>NaN</td>\n",
       "      <td>7</td>\n",
       "      <td>37</td>\n",
       "      <td>Middle East</td>\n",
       "      <td>Yemen</td>\n",
       "      <td>Al Hudaydah</td>\n",
       "      <td>Hays</td>\n",
       "      <td>NaN</td>\n",
       "    </tr>\n",
       "    <tr>\n",
       "      <th>133957</th>\n",
       "      <td>National Resistance Forces</td>\n",
       "      <td>NaN</td>\n",
       "      <td>3</td>\n",
       "      <td>NaN</td>\n",
       "      <td>NaN</td>\n",
       "      <td>0</td>\n",
       "      <td>30</td>\n",
       "      <td>Middle East</td>\n",
       "      <td>Yemen</td>\n",
       "      <td>Al Hudaydah</td>\n",
       "      <td>At Tuhayat</td>\n",
       "      <td>NaN</td>\n",
       "    </tr>\n",
       "    <tr>\n",
       "      <th>133958</th>\n",
       "      <td>Military Forces of Yemen (2016-) Supreme Polit...</td>\n",
       "      <td>NaN</td>\n",
       "      <td>1</td>\n",
       "      <td>National Resistance Forces</td>\n",
       "      <td>Giants Brigade</td>\n",
       "      <td>3</td>\n",
       "      <td>13</td>\n",
       "      <td>Middle East</td>\n",
       "      <td>Yemen</td>\n",
       "      <td>Al Hudaydah</td>\n",
       "      <td>Ad Durayhimi</td>\n",
       "      <td>NaN</td>\n",
       "    </tr>\n",
       "  </tbody>\n",
       "</table>\n",
       "</div>"
      ],
      "text/plain": [
       "                                                   ACTOR1 ASSOC_ACTOR_1  \\\n",
       "133954  Military Forces of Yemen (2016-) Supreme Polit...           NaN   \n",
       "133955                         National Resistance Forces           NaN   \n",
       "133956                         National Resistance Forces           NaN   \n",
       "133957                         National Resistance Forces           NaN   \n",
       "133958  Military Forces of Yemen (2016-) Supreme Polit...           NaN   \n",
       "\n",
       "        INTER1                      ACTOR2   ASSOC_ACTOR_2  INTER2  \\\n",
       "133954       1  National Resistance Forces  Giants Brigade       3   \n",
       "133955       3                         NaN             NaN       0   \n",
       "133956       3           Civilians (Yemen)             NaN       7   \n",
       "133957       3                         NaN             NaN       0   \n",
       "133958       1  National Resistance Forces  Giants Brigade       3   \n",
       "\n",
       "        INTERACTION       REGION COUNTRY       ADMIN1        ADMIN2 ADMIN3  \n",
       "133954           13  Middle East   Yemen  Al Hudaydah    At Tuhayat    NaN  \n",
       "133955           30  Middle East   Yemen  Al Hudaydah       Al Hali    NaN  \n",
       "133956           37  Middle East   Yemen  Al Hudaydah          Hays    NaN  \n",
       "133957           30  Middle East   Yemen  Al Hudaydah    At Tuhayat    NaN  \n",
       "133958           13  Middle East   Yemen  Al Hudaydah  Ad Durayhimi    NaN  "
      ]
     },
     "execution_count": 126,
     "metadata": {},
     "output_type": "execute_result"
    }
   ],
   "source": [
    "ACLED.iloc[:,8:20].tail()"
   ]
  },
  {
   "cell_type": "code",
   "execution_count": 127,
   "metadata": {},
   "outputs": [
    {
     "data": {
      "text/plain": [
       "ISO                      0\n",
       "EVENT_ID_CNTY            0\n",
       "EVENT_ID_NO_CNTY         0\n",
       "EVENT_DATE               0\n",
       "YEAR                     0\n",
       "TIME_PRECISION           0\n",
       "EVENT_TYPE               0\n",
       "SUB_EVENT_TYPE           0\n",
       "ACTOR1                   0\n",
       "ASSOC_ACTOR_1       102560\n",
       "INTER1                   0\n",
       "ACTOR2               47116\n",
       "ASSOC_ACTOR_2       118765\n",
       "INTER2                   0\n",
       "INTERACTION              0\n",
       "REGION                   0\n",
       "COUNTRY                  0\n",
       "ADMIN1                   0\n",
       "ADMIN2                1532\n",
       "ADMIN3               72705\n",
       "LOCATION                 0\n",
       "LATITUDE                 0\n",
       "LONGITUDE                0\n",
       "GEO_PRECISION            0\n",
       "SOURCE                   0\n",
       "SOURCE_SCALE             0\n",
       "NOTES                    0\n",
       "FATALITIES               0\n",
       "TIMESTAMP                0\n",
       "dtype: int64"
      ]
     },
     "execution_count": 127,
     "metadata": {},
     "output_type": "execute_result"
    }
   ],
   "source": [
    "# checking for null data\n",
    "ACLED.isnull().sum()"
   ]
  },
  {
   "cell_type": "markdown",
   "metadata": {},
   "source": [
    "**Null values** in the dataset are found in 5 fields (ASSOC_ACTOR_1, ASSOC_ACTOR_2, INTER2, ADMIN2, and ADMIN3.)  However. these fields will not be used for the preliminary analysis."
   ]
  },
  {
   "cell_type": "code",
   "execution_count": 128,
   "metadata": {},
   "outputs": [
    {
     "data": {
      "text/html": [
       "<div>\n",
       "<style scoped>\n",
       "    .dataframe tbody tr th:only-of-type {\n",
       "        vertical-align: middle;\n",
       "    }\n",
       "\n",
       "    .dataframe tbody tr th {\n",
       "        vertical-align: top;\n",
       "    }\n",
       "\n",
       "    .dataframe thead th {\n",
       "        text-align: right;\n",
       "    }\n",
       "</style>\n",
       "<table border=\"1\" class=\"dataframe\">\n",
       "  <thead>\n",
       "    <tr style=\"text-align: right;\">\n",
       "      <th></th>\n",
       "      <th>ISO</th>\n",
       "      <th>EVENT_ID_NO_CNTY</th>\n",
       "      <th>YEAR</th>\n",
       "      <th>TIME_PRECISION</th>\n",
       "      <th>INTER1</th>\n",
       "      <th>INTER2</th>\n",
       "      <th>INTERACTION</th>\n",
       "      <th>LATITUDE</th>\n",
       "      <th>LONGITUDE</th>\n",
       "      <th>GEO_PRECISION</th>\n",
       "      <th>FATALITIES</th>\n",
       "      <th>TIMESTAMP</th>\n",
       "    </tr>\n",
       "  </thead>\n",
       "  <tbody>\n",
       "    <tr>\n",
       "      <th>count</th>\n",
       "      <td>133959.000000</td>\n",
       "      <td>133959.000000</td>\n",
       "      <td>133959.000000</td>\n",
       "      <td>133959.000000</td>\n",
       "      <td>133959.000000</td>\n",
       "      <td>133959.000000</td>\n",
       "      <td>133959.000000</td>\n",
       "      <td>133959.000000</td>\n",
       "      <td>133959.000000</td>\n",
       "      <td>133959.000000</td>\n",
       "      <td>133959.000000</td>\n",
       "      <td>1.339590e+05</td>\n",
       "    </tr>\n",
       "    <tr>\n",
       "      <th>mean</th>\n",
       "      <td>683.788510</td>\n",
       "      <td>18316.431087</td>\n",
       "      <td>2017.319904</td>\n",
       "      <td>1.045745</td>\n",
       "      <td>3.755910</td>\n",
       "      <td>2.180287</td>\n",
       "      <td>30.951157</td>\n",
       "      <td>29.720179</td>\n",
       "      <td>40.451882</td>\n",
       "      <td>1.393494</td>\n",
       "      <td>2.099583</td>\n",
       "      <td>1.552762e+09</td>\n",
       "    </tr>\n",
       "    <tr>\n",
       "      <th>std</th>\n",
       "      <td>207.941423</td>\n",
       "      <td>16689.127283</td>\n",
       "      <td>0.900319</td>\n",
       "      <td>0.225133</td>\n",
       "      <td>2.962781</td>\n",
       "      <td>2.593052</td>\n",
       "      <td>24.394068</td>\n",
       "      <td>8.815149</td>\n",
       "      <td>4.402622</td>\n",
       "      <td>0.568447</td>\n",
       "      <td>6.897289</td>\n",
       "      <td>6.003785e+05</td>\n",
       "    </tr>\n",
       "    <tr>\n",
       "      <th>min</th>\n",
       "      <td>48.000000</td>\n",
       "      <td>1.000000</td>\n",
       "      <td>2016.000000</td>\n",
       "      <td>1.000000</td>\n",
       "      <td>1.000000</td>\n",
       "      <td>0.000000</td>\n",
       "      <td>10.000000</td>\n",
       "      <td>12.631000</td>\n",
       "      <td>26.306000</td>\n",
       "      <td>1.000000</td>\n",
       "      <td>0.000000</td>\n",
       "      <td>1.552576e+09</td>\n",
       "    </tr>\n",
       "    <tr>\n",
       "      <th>25%</th>\n",
       "      <td>682.000000</td>\n",
       "      <td>4261.000000</td>\n",
       "      <td>2017.000000</td>\n",
       "      <td>1.000000</td>\n",
       "      <td>1.000000</td>\n",
       "      <td>0.000000</td>\n",
       "      <td>12.000000</td>\n",
       "      <td>17.493000</td>\n",
       "      <td>36.620000</td>\n",
       "      <td>1.000000</td>\n",
       "      <td>0.000000</td>\n",
       "      <td>1.552577e+09</td>\n",
       "    </tr>\n",
       "    <tr>\n",
       "      <th>50%</th>\n",
       "      <td>760.000000</td>\n",
       "      <td>13833.000000</td>\n",
       "      <td>2017.000000</td>\n",
       "      <td>1.000000</td>\n",
       "      <td>2.000000</td>\n",
       "      <td>1.000000</td>\n",
       "      <td>18.000000</td>\n",
       "      <td>33.983000</td>\n",
       "      <td>40.727000</td>\n",
       "      <td>1.000000</td>\n",
       "      <td>0.000000</td>\n",
       "      <td>1.552577e+09</td>\n",
       "    </tr>\n",
       "    <tr>\n",
       "      <th>75%</th>\n",
       "      <td>792.000000</td>\n",
       "      <td>28099.000000</td>\n",
       "      <td>2018.000000</td>\n",
       "      <td>1.000000</td>\n",
       "      <td>8.000000</td>\n",
       "      <td>2.000000</td>\n",
       "      <td>38.000000</td>\n",
       "      <td>35.759000</td>\n",
       "      <td>43.783000</td>\n",
       "      <td>2.000000</td>\n",
       "      <td>1.000000</td>\n",
       "      <td>1.552577e+09</td>\n",
       "    </tr>\n",
       "    <tr>\n",
       "      <th>max</th>\n",
       "      <td>887.000000</td>\n",
       "      <td>471339.000000</td>\n",
       "      <td>2019.000000</td>\n",
       "      <td>3.000000</td>\n",
       "      <td>8.000000</td>\n",
       "      <td>8.000000</td>\n",
       "      <td>88.000000</td>\n",
       "      <td>42.027000</td>\n",
       "      <td>62.778000</td>\n",
       "      <td>3.000000</td>\n",
       "      <td>469.000000</td>\n",
       "      <td>1.555977e+09</td>\n",
       "    </tr>\n",
       "  </tbody>\n",
       "</table>\n",
       "</div>"
      ],
      "text/plain": [
       "                 ISO  EVENT_ID_NO_CNTY           YEAR  TIME_PRECISION  \\\n",
       "count  133959.000000     133959.000000  133959.000000   133959.000000   \n",
       "mean      683.788510      18316.431087    2017.319904        1.045745   \n",
       "std       207.941423      16689.127283       0.900319        0.225133   \n",
       "min        48.000000          1.000000    2016.000000        1.000000   \n",
       "25%       682.000000       4261.000000    2017.000000        1.000000   \n",
       "50%       760.000000      13833.000000    2017.000000        1.000000   \n",
       "75%       792.000000      28099.000000    2018.000000        1.000000   \n",
       "max       887.000000     471339.000000    2019.000000        3.000000   \n",
       "\n",
       "              INTER1         INTER2    INTERACTION       LATITUDE  \\\n",
       "count  133959.000000  133959.000000  133959.000000  133959.000000   \n",
       "mean        3.755910       2.180287      30.951157      29.720179   \n",
       "std         2.962781       2.593052      24.394068       8.815149   \n",
       "min         1.000000       0.000000      10.000000      12.631000   \n",
       "25%         1.000000       0.000000      12.000000      17.493000   \n",
       "50%         2.000000       1.000000      18.000000      33.983000   \n",
       "75%         8.000000       2.000000      38.000000      35.759000   \n",
       "max         8.000000       8.000000      88.000000      42.027000   \n",
       "\n",
       "           LONGITUDE  GEO_PRECISION     FATALITIES     TIMESTAMP  \n",
       "count  133959.000000  133959.000000  133959.000000  1.339590e+05  \n",
       "mean       40.451882       1.393494       2.099583  1.552762e+09  \n",
       "std         4.402622       0.568447       6.897289  6.003785e+05  \n",
       "min        26.306000       1.000000       0.000000  1.552576e+09  \n",
       "25%        36.620000       1.000000       0.000000  1.552577e+09  \n",
       "50%        40.727000       1.000000       0.000000  1.552577e+09  \n",
       "75%        43.783000       2.000000       1.000000  1.552577e+09  \n",
       "max        62.778000       3.000000     469.000000  1.555977e+09  "
      ]
     },
     "execution_count": 128,
     "metadata": {},
     "output_type": "execute_result"
    }
   ],
   "source": [
    "# View a concise summary of data for modelling - numeric variables\n",
    "# This summary is not very useful because the variables are not relevent to the analysis\n",
    "ACLED.describe()"
   ]
  },
  {
   "cell_type": "code",
   "execution_count": 129,
   "metadata": {},
   "outputs": [
    {
     "data": {
      "text/html": [
       "<div>\n",
       "<style scoped>\n",
       "    .dataframe tbody tr th:only-of-type {\n",
       "        vertical-align: middle;\n",
       "    }\n",
       "\n",
       "    .dataframe tbody tr th {\n",
       "        vertical-align: top;\n",
       "    }\n",
       "\n",
       "    .dataframe thead th {\n",
       "        text-align: right;\n",
       "    }\n",
       "</style>\n",
       "<table border=\"1\" class=\"dataframe\">\n",
       "  <thead>\n",
       "    <tr style=\"text-align: right;\">\n",
       "      <th></th>\n",
       "      <th>EVENT_ID_CNTY</th>\n",
       "      <th>EVENT_DATE</th>\n",
       "      <th>EVENT_TYPE</th>\n",
       "      <th>SUB_EVENT_TYPE</th>\n",
       "      <th>ACTOR1</th>\n",
       "      <th>ASSOC_ACTOR_1</th>\n",
       "      <th>ACTOR2</th>\n",
       "      <th>ASSOC_ACTOR_2</th>\n",
       "      <th>REGION</th>\n",
       "      <th>COUNTRY</th>\n",
       "      <th>ADMIN1</th>\n",
       "      <th>ADMIN2</th>\n",
       "      <th>ADMIN3</th>\n",
       "      <th>LOCATION</th>\n",
       "      <th>SOURCE</th>\n",
       "      <th>SOURCE_SCALE</th>\n",
       "      <th>NOTES</th>\n",
       "    </tr>\n",
       "  </thead>\n",
       "  <tbody>\n",
       "    <tr>\n",
       "      <th>count</th>\n",
       "      <td>133959</td>\n",
       "      <td>133959</td>\n",
       "      <td>133959</td>\n",
       "      <td>133959</td>\n",
       "      <td>133959</td>\n",
       "      <td>31399</td>\n",
       "      <td>86843</td>\n",
       "      <td>15194</td>\n",
       "      <td>133959</td>\n",
       "      <td>133959</td>\n",
       "      <td>133959</td>\n",
       "      <td>132427</td>\n",
       "      <td>61254</td>\n",
       "      <td>133959</td>\n",
       "      <td>133959</td>\n",
       "      <td>133959</td>\n",
       "      <td>133959</td>\n",
       "    </tr>\n",
       "    <tr>\n",
       "      <th>unique</th>\n",
       "      <td>133959</td>\n",
       "      <td>1206</td>\n",
       "      <td>7</td>\n",
       "      <td>25</td>\n",
       "      <td>677</td>\n",
       "      <td>1687</td>\n",
       "      <td>641</td>\n",
       "      <td>1367</td>\n",
       "      <td>1</td>\n",
       "      <td>15</td>\n",
       "      <td>216</td>\n",
       "      <td>1372</td>\n",
       "      <td>356</td>\n",
       "      <td>8729</td>\n",
       "      <td>5332</td>\n",
       "      <td>47</td>\n",
       "      <td>121085</td>\n",
       "    </tr>\n",
       "    <tr>\n",
       "      <th>top</th>\n",
       "      <td>SYR22954</td>\n",
       "      <td>07-September-2018</td>\n",
       "      <td>Explosions/Remote violence</td>\n",
       "      <td>Air/drone strike</td>\n",
       "      <td>Military Forces of Syria (2000-)</td>\n",
       "      <td>Militia (Pro-Government)</td>\n",
       "      <td>Civilians (Syria)</td>\n",
       "      <td>Militia (Pro-Government)</td>\n",
       "      <td>Middle East</td>\n",
       "      <td>Syria</td>\n",
       "      <td>Hama</td>\n",
       "      <td>Jebel Saman</td>\n",
       "      <td>Central</td>\n",
       "      <td>Mosul</td>\n",
       "      <td>SOHR</td>\n",
       "      <td>Other-Local</td>\n",
       "      <td>Coalition airstrikes hit unknown in Sirwah</td>\n",
       "    </tr>\n",
       "    <tr>\n",
       "      <th>freq</th>\n",
       "      <td>1</td>\n",
       "      <td>240</td>\n",
       "      <td>73916</td>\n",
       "      <td>34325</td>\n",
       "      <td>23979</td>\n",
       "      <td>4442</td>\n",
       "      <td>14083</td>\n",
       "      <td>2999</td>\n",
       "      <td>133959</td>\n",
       "      <td>57253</td>\n",
       "      <td>10949</td>\n",
       "      <td>3955</td>\n",
       "      <td>3481</td>\n",
       "      <td>1288</td>\n",
       "      <td>23580</td>\n",
       "      <td>50846</td>\n",
       "      <td>105</td>\n",
       "    </tr>\n",
       "  </tbody>\n",
       "</table>\n",
       "</div>"
      ],
      "text/plain": [
       "       EVENT_ID_CNTY         EVENT_DATE                  EVENT_TYPE  \\\n",
       "count         133959             133959                      133959   \n",
       "unique        133959               1206                           7   \n",
       "top         SYR22954  07-September-2018  Explosions/Remote violence   \n",
       "freq               1                240                       73916   \n",
       "\n",
       "          SUB_EVENT_TYPE                            ACTOR1  \\\n",
       "count             133959                            133959   \n",
       "unique                25                               677   \n",
       "top     Air/drone strike  Military Forces of Syria (2000-)   \n",
       "freq               34325                             23979   \n",
       "\n",
       "                   ASSOC_ACTOR_1             ACTOR2             ASSOC_ACTOR_2  \\\n",
       "count                      31399              86843                     15194   \n",
       "unique                      1687                641                      1367   \n",
       "top     Militia (Pro-Government)  Civilians (Syria)  Militia (Pro-Government)   \n",
       "freq                        4442              14083                      2999   \n",
       "\n",
       "             REGION COUNTRY  ADMIN1       ADMIN2   ADMIN3 LOCATION  SOURCE  \\\n",
       "count        133959  133959  133959       132427    61254   133959  133959   \n",
       "unique            1      15     216         1372      356     8729    5332   \n",
       "top     Middle East   Syria    Hama  Jebel Saman  Central    Mosul    SOHR   \n",
       "freq         133959   57253   10949         3955     3481     1288   23580   \n",
       "\n",
       "       SOURCE_SCALE                                       NOTES  \n",
       "count        133959                                      133959  \n",
       "unique           47                                      121085  \n",
       "top     Other-Local  Coalition airstrikes hit unknown in Sirwah  \n",
       "freq          50846                                         105  "
      ]
     },
     "execution_count": 129,
     "metadata": {},
     "output_type": "execute_result"
    }
   ],
   "source": [
    "# View a concise summary of data for modelling - non-numeric variables\n",
    "ACLED.describe(include='object')"
   ]
  },
  {
   "cell_type": "markdown",
   "metadata": {},
   "source": [
    "### 3.2.2 Unique Values and Summary Statistics"
   ]
  },
  {
   "cell_type": "code",
   "execution_count": 130,
   "metadata": {},
   "outputs": [
    {
     "data": {
      "text/plain": [
       "array(['Bahrain', 'Palestine', 'Iran', 'Iraq', 'Israel', 'Jordan',\n",
       "       'Kuwait', 'Lebanon', 'Oman', 'Qatar', 'Saudi Arabia', 'Syria',\n",
       "       'United Arab Emirates', 'Turkey', 'Yemen'], dtype=object)"
      ]
     },
     "execution_count": 130,
     "metadata": {},
     "output_type": "execute_result"
    }
   ],
   "source": [
    "# Identify countries included in the dataset\n",
    "ACLED['COUNTRY'].unique()"
   ]
  },
  {
   "cell_type": "code",
   "execution_count": 131,
   "metadata": {},
   "outputs": [
    {
     "data": {
      "text/plain": [
       "677"
      ]
     },
     "execution_count": 131,
     "metadata": {},
     "output_type": "execute_result"
    }
   ],
   "source": [
    "# Identify number of Unique Actors\n",
    "len(ACLED['ACTOR1'].unique())"
   ]
  },
  {
   "cell_type": "markdown",
   "metadata": {},
   "source": [
    "#### Encoding Actor Types\n",
    "INTER1 and INTER2 records general type of Actors held in ACTOR1 and ACTOR2 fields. The INTER1 and INTER2 fields will be used for the model due to the large number of unique actors. \n",
    "\n",
    "Government or mutinous force = 1\n",
    "Rebel force =2\n",
    "Political militia= 3\n",
    "Ethnic militia = 4\n",
    "Rioters= 5\n",
    "Protesters = 6\n",
    "Civilians = 7\n",
    "Outside/external force (e.g. UN) =8\n"
   ]
  },
  {
   "cell_type": "code",
   "execution_count": 132,
   "metadata": {},
   "outputs": [
    {
     "name": "stdout",
     "output_type": "stream",
     "text": [
      "{1: 'Government or munitous force', 2: 'Rebel force', 3: 'Political militia', 4: 'Ethnic militia', 5: 'Rioters', 6: 'Protesters', 7: 'Civilians', 8: 'External forces'}\n"
     ]
    }
   ],
   "source": [
    "#Create Dictionary of Actor Types\n",
    "Actor_Type = {1: 'Government or munitous force', 2: 'Rebel force', 3: 'Political militia', 4:'Ethnic militia', 5:'Rioters', 6: 'Protesters', 7: 'Civilians', 8:'External forces'}\n",
    "print(Actor_Type)"
   ]
  },
  {
   "cell_type": "code",
   "execution_count": 133,
   "metadata": {},
   "outputs": [
    {
     "name": "stdout",
     "output_type": "stream",
     "text": [
      "                              FATALITIES\n",
      "INTER1                                  \n",
      "Civilians                       0.000000\n",
      "Protesters                      0.000519\n",
      "Rioters                         0.054315\n",
      "Political militia               1.355921\n",
      "External forces                 1.481540\n",
      "Ethnic militia                  2.494062\n",
      "Government or munitous force    2.908208\n",
      "Rebel force                     3.168635\n"
     ]
    }
   ],
   "source": [
    "# Understand the average number of fatalites for an each ACTOR1 type \n",
    "inter1_fatal = ACLED.groupby('INTER1',as_index=False).agg({'FATALITIES': 'mean'}).sort_values(by='FATALITIES')\n",
    "inter1_fatal['INTER1']=inter1_fatal['INTER1'].map(Actor_Type)\n",
    "inter1_fatal=inter1_fatal.set_index('INTER1')\n",
    "print(inter1_fatal)"
   ]
  },
  {
   "cell_type": "code",
   "execution_count": 134,
   "metadata": {},
   "outputs": [
    {
     "data": {
      "image/png": "[encoded data removed]",
      "text/plain": [
       "<Figure size 432x288 with 1 Axes>"
      ]
     },
     "metadata": {
      "needs_background": "light"
     },
     "output_type": "display_data"
    }
   ],
   "source": [
    "ax = inter1_fatal.loc[:,'FATALITIES'].plot(y='FATALITIES', x='INTER1', kind='barh',)\n",
    "ax.set_title('Average Number of Fatalities by Actor1 Type')\n",
    "ax.set_ylabel('Actor Type')\n",
    "ax.set_xlabel('Fatalities');"
   ]
  },
  {
   "cell_type": "code",
   "execution_count": 135,
   "metadata": {},
   "outputs": [
    {
     "name": "stdout",
     "output_type": "stream",
     "text": [
      "                              FATALITIES\n",
      "INTER2                                  \n",
      "NaN                             0.014390\n",
      "Rioters                         0.173779\n",
      "Protesters                      0.233184\n",
      "External forces                 2.049587\n",
      "Civilians                       2.416185\n",
      "Political militia               2.612293\n",
      "Ethnic militia                  2.957565\n",
      "Government or munitous force    3.408035\n",
      "Rebel force                     4.169719\n"
     ]
    }
   ],
   "source": [
    "# Understand the average number of fatalites for an each ACTOR2 type \n",
    "inter2_fatal=ACLED.groupby('INTER2',as_index=False).agg({'FATALITIES': 'mean'}).sort_values(by='FATALITIES')\n",
    "inter2_fatal['INTER2']=inter2_fatal['INTER2'].map(Actor_Type)\n",
    "inter2_fatal=inter2_fatal.set_index('INTER2')\n",
    "print(inter2_fatal)"
   ]
  },
  {
   "cell_type": "code",
   "execution_count": null,
   "metadata": {},
   "outputs": [
    {
     "data": {
      "image/png": "[encoded data removed]",
      "text/plain": [
       "<Figure size 432x288 with 1 Axes>"
      ]
     },
     "metadata": {
      "needs_background": "light"
     },
     "output_type": "display_data"
    }
   ],
   "source": [
    "ax = inter2_fatal.loc[:,'FATALITIES'].plot(y='FATALITIES', x='INTER1', kind='barh',)\n",
    "ax.set_title('Average Number of Fatalities by Actor2 Type')\n",
    "ax.set_ylabel('Actor Type')\n",
    "ax.set_xlabel('Fatalities');"
   ]
  },
  {
   "cell_type": "markdown",
   "metadata": {},
   "source": [
    "It appears that Political Militia's and Rebel Forces are the most deadly actor types while actors such as the Outside Forces, Protesters, and Civilians are more peaceful/less deadly."
   ]
  },
  {
   "cell_type": "code",
   "execution_count": null,
   "metadata": {},
   "outputs": [
    {
     "data": {
      "text/html": [
       "<div>\n",
       "<style scoped>\n",
       "    .dataframe tbody tr th:only-of-type {\n",
       "        vertical-align: middle;\n",
       "    }\n",
       "\n",
       "    .dataframe tbody tr th {\n",
       "        vertical-align: top;\n",
       "    }\n",
       "\n",
       "    .dataframe thead th {\n",
       "        text-align: right;\n",
       "    }\n",
       "</style>\n",
       "<table border=\"1\" class=\"dataframe\">\n",
       "  <thead>\n",
       "    <tr style=\"text-align: right;\">\n",
       "      <th></th>\n",
       "      <th>FATALITIES</th>\n",
       "    </tr>\n",
       "    <tr>\n",
       "      <th>EVENT_TYPE</th>\n",
       "      <th></th>\n",
       "    </tr>\n",
       "  </thead>\n",
       "  <tbody>\n",
       "    <tr>\n",
       "      <th>Protests</th>\n",
       "      <td>0.005678</td>\n",
       "    </tr>\n",
       "    <tr>\n",
       "      <th>Riots</th>\n",
       "      <td>0.109294</td>\n",
       "    </tr>\n",
       "    <tr>\n",
       "      <th>Strategic developments</th>\n",
       "      <td>0.131747</td>\n",
       "    </tr>\n",
       "    <tr>\n",
       "      <th>Explosions/remote violence</th>\n",
       "      <td>0.909091</td>\n",
       "    </tr>\n",
       "    <tr>\n",
       "      <th>Explosions/Remote violence</th>\n",
       "      <td>1.583514</td>\n",
       "    </tr>\n",
       "    <tr>\n",
       "      <th>Violence against civilians</th>\n",
       "      <td>2.515413</td>\n",
       "    </tr>\n",
       "    <tr>\n",
       "      <th>Battles</th>\n",
       "      <td>4.642525</td>\n",
       "    </tr>\n",
       "  </tbody>\n",
       "</table>\n",
       "</div>"
      ],
      "text/plain": [
       "                            FATALITIES\n",
       "EVENT_TYPE                            \n",
       "Protests                      0.005678\n",
       "Riots                         0.109294\n",
       "Strategic developments        0.131747\n",
       "Explosions/remote violence    0.909091\n",
       "Explosions/Remote violence    1.583514\n",
       "Violence against civilians    2.515413\n",
       "Battles                       4.642525"
      ]
     },
     "execution_count": 137,
     "metadata": {},
     "output_type": "execute_result"
    }
   ],
   "source": [
    "# Understand the average number of fatalites for an event type\n",
    "ACLED.groupby('EVENT_TYPE').agg({'FATALITIES': 'mean'}).sort_values(by='FATALITIES')"
   ]
  },
  {
   "cell_type": "code",
   "execution_count": null,
   "metadata": {},
   "outputs": [
    {
     "data": {
      "image/png": "[encoded data removed]",
      "text/plain": [
       "<Figure size 432x288 with 1 Axes>"
      ]
     },
     "metadata": {
      "needs_background": "light"
     },
     "output_type": "display_data"
    }
   ],
   "source": [
    "event_type = ACLED.groupby('EVENT_TYPE').agg({'FATALITIES': 'mean'}).sort_values(by='FATALITIES')\n",
    "ax = event_type.loc[:,'FATALITIES'].plot(y='FATALITIES', x='EVENT_TYPE', kind='barh',)\n",
    "ax.set_title('Average Number of Fatalities by Event Type')\n",
    "ax.set_ylabel('Event Type')\n",
    "ax.set_xlabel('Fatalities');"
   ]
  },
  {
   "cell_type": "markdown",
   "metadata": {},
   "source": [
    "Battles, Violence against civilians, and Explosions appear to be the most deadly. "
   ]
  },
  {
   "cell_type": "code",
   "execution_count": null,
   "metadata": {},
   "outputs": [
    {
     "data": {
      "text/html": [
       "<div>\n",
       "<style scoped>\n",
       "    .dataframe tbody tr th:only-of-type {\n",
       "        vertical-align: middle;\n",
       "    }\n",
       "\n",
       "    .dataframe tbody tr th {\n",
       "        vertical-align: top;\n",
       "    }\n",
       "\n",
       "    .dataframe thead th {\n",
       "        text-align: right;\n",
       "    }\n",
       "</style>\n",
       "<table border=\"1\" class=\"dataframe\">\n",
       "  <thead>\n",
       "    <tr style=\"text-align: right;\">\n",
       "      <th></th>\n",
       "      <th>FATALITIES</th>\n",
       "    </tr>\n",
       "    <tr>\n",
       "      <th>SUB_EVENT_TYPE</th>\n",
       "      <th></th>\n",
       "    </tr>\n",
       "  </thead>\n",
       "  <tbody>\n",
       "    <tr>\n",
       "      <th>Abduction/forced disappearance</th>\n",
       "      <td>0.000000</td>\n",
       "    </tr>\n",
       "    <tr>\n",
       "      <th>Looting/property destruction</th>\n",
       "      <td>0.000000</td>\n",
       "    </tr>\n",
       "    <tr>\n",
       "      <th>Headquarters or base established</th>\n",
       "      <td>0.000000</td>\n",
       "    </tr>\n",
       "    <tr>\n",
       "      <th>Agreement</th>\n",
       "      <td>0.000000</td>\n",
       "    </tr>\n",
       "    <tr>\n",
       "      <th>Peaceful protest</th>\n",
       "      <td>0.000192</td>\n",
       "    </tr>\n",
       "    <tr>\n",
       "      <th>Protest with intervention</th>\n",
       "      <td>0.001523</td>\n",
       "    </tr>\n",
       "    <tr>\n",
       "      <th>Change to group/activity</th>\n",
       "      <td>0.006017</td>\n",
       "    </tr>\n",
       "    <tr>\n",
       "      <th>Non-violent transfer of territory</th>\n",
       "      <td>0.046382</td>\n",
       "    </tr>\n",
       "    <tr>\n",
       "      <th>Sexual violence</th>\n",
       "      <td>0.047619</td>\n",
       "    </tr>\n",
       "    <tr>\n",
       "      <th>Mob violence</th>\n",
       "      <td>0.068219</td>\n",
       "    </tr>\n",
       "    <tr>\n",
       "      <th>Arrests</th>\n",
       "      <td>0.081081</td>\n",
       "    </tr>\n",
       "    <tr>\n",
       "      <th>Violent demonstration</th>\n",
       "      <td>0.155583</td>\n",
       "    </tr>\n",
       "    <tr>\n",
       "      <th>Other</th>\n",
       "      <td>0.251403</td>\n",
       "    </tr>\n",
       "    <tr>\n",
       "      <th>Excessive force against protesters</th>\n",
       "      <td>0.289593</td>\n",
       "    </tr>\n",
       "    <tr>\n",
       "      <th>Disrupted weapons use</th>\n",
       "      <td>0.370205</td>\n",
       "    </tr>\n",
       "    <tr>\n",
       "      <th>Grenade</th>\n",
       "      <td>0.604762</td>\n",
       "    </tr>\n",
       "    <tr>\n",
       "      <th>Shelling/artillery/missile attack</th>\n",
       "      <td>0.880928</td>\n",
       "    </tr>\n",
       "    <tr>\n",
       "      <th>Air/drone strike</th>\n",
       "      <td>1.858296</td>\n",
       "    </tr>\n",
       "    <tr>\n",
       "      <th>Remote explosive/landmine/IED</th>\n",
       "      <td>2.238796</td>\n",
       "    </tr>\n",
       "    <tr>\n",
       "      <th>Attack</th>\n",
       "      <td>2.774589</td>\n",
       "    </tr>\n",
       "    <tr>\n",
       "      <th>Non-state actor overtakes territory</th>\n",
       "      <td>2.987013</td>\n",
       "    </tr>\n",
       "    <tr>\n",
       "      <th>Armed clash</th>\n",
       "      <td>4.602233</td>\n",
       "    </tr>\n",
       "    <tr>\n",
       "      <th>Chemical weapon</th>\n",
       "      <td>4.964286</td>\n",
       "    </tr>\n",
       "    <tr>\n",
       "      <th>Government regains territory</th>\n",
       "      <td>5.648761</td>\n",
       "    </tr>\n",
       "    <tr>\n",
       "      <th>Suicide bomb</th>\n",
       "      <td>11.994536</td>\n",
       "    </tr>\n",
       "  </tbody>\n",
       "</table>\n",
       "</div>"
      ],
      "text/plain": [
       "                                     FATALITIES\n",
       "SUB_EVENT_TYPE                                 \n",
       "Abduction/forced disappearance         0.000000\n",
       "Looting/property destruction           0.000000\n",
       "Headquarters or base established       0.000000\n",
       "Agreement                              0.000000\n",
       "Peaceful protest                       0.000192\n",
       "Protest with intervention              0.001523\n",
       "Change to group/activity               0.006017\n",
       "Non-violent transfer of territory      0.046382\n",
       "Sexual violence                        0.047619\n",
       "Mob violence                           0.068219\n",
       "Arrests                                0.081081\n",
       "Violent demonstration                  0.155583\n",
       "Other                                  0.251403\n",
       "Excessive force against protesters     0.289593\n",
       "Disrupted weapons use                  0.370205\n",
       "Grenade                                0.604762\n",
       "Shelling/artillery/missile attack      0.880928\n",
       "Air/drone strike                       1.858296\n",
       "Remote explosive/landmine/IED          2.238796\n",
       "Attack                                 2.774589\n",
       "Non-state actor overtakes territory    2.987013\n",
       "Armed clash                            4.602233\n",
       "Chemical weapon                        4.964286\n",
       "Government regains territory           5.648761\n",
       "Suicide bomb                          11.994536"
      ]
     },
     "execution_count": 139,
     "metadata": {},
     "output_type": "execute_result"
    }
   ],
   "source": [
    "ACLED.groupby('SUB_EVENT_TYPE').agg({'FATALITIES': 'mean'}).sort_values(by='FATALITIES')"
   ]
  },
  {
   "cell_type": "code",
   "execution_count": null,
   "metadata": {},
   "outputs": [
    {
     "data": {
      "image/png": "[encoded data removed]",
      "text/plain": [
       "<Figure size 864x576 with 1 Axes>"
      ]
     },
     "metadata": {
      "needs_background": "light"
     },
     "output_type": "display_data"
    }
   ],
   "source": [
    "sub_event_type = ACLED.groupby('SUB_EVENT_TYPE').agg({'FATALITIES': 'mean'}).sort_values(by='FATALITIES')\n",
    "sub_event_type = ACLED.groupby('SUB_EVENT_TYPE').agg({'FATALITIES': 'mean'}).sort_values(by='FATALITIES')\n",
    "ax = sub_event_type.loc[:,'FATALITIES'].plot(figsize=(12,8), y='FATALITIES', x='SUB_EVENT_TYPE', kind='barh',)\n",
    "ax.set_title('Average Number of Fatalities by Sub Event Type')\n",
    "ax.set_ylabel('Sub Event Type')\n",
    "ax.set_xlabel('Fatalities');"
   ]
  },
  {
   "cell_type": "markdown",
   "metadata": {},
   "source": [
    "## 3.3 Manipulating the Dataset\n",
    "Some data manipulations are required due to issues with datatype or text based fields requiring re-coding"
   ]
  },
  {
   "cell_type": "code",
   "execution_count": null,
   "metadata": {},
   "outputs": [],
   "source": [
    "# The above identified a typo in event type causing two separate categories for Explosions/Remote violence\n",
    "# Use the replace function to correct this error\n",
    "ACLED['EVENT_TYPE'] = ACLED['EVENT_TYPE'].replace(\"Explosions/remote violence\",\"Explosions/Remote violence\")"
   ]
  },
  {
   "cell_type": "code",
   "execution_count": null,
   "metadata": {},
   "outputs": [
    {
     "data": {
      "text/html": [
       "<div>\n",
       "<style scoped>\n",
       "    .dataframe tbody tr th:only-of-type {\n",
       "        vertical-align: middle;\n",
       "    }\n",
       "\n",
       "    .dataframe tbody tr th {\n",
       "        vertical-align: top;\n",
       "    }\n",
       "\n",
       "    .dataframe thead th {\n",
       "        text-align: right;\n",
       "    }\n",
       "</style>\n",
       "<table border=\"1\" class=\"dataframe\">\n",
       "  <thead>\n",
       "    <tr style=\"text-align: right;\">\n",
       "      <th></th>\n",
       "      <th>FATALITIES</th>\n",
       "    </tr>\n",
       "    <tr>\n",
       "      <th>EVENT_TYPE</th>\n",
       "      <th></th>\n",
       "    </tr>\n",
       "  </thead>\n",
       "  <tbody>\n",
       "    <tr>\n",
       "      <th>Protests</th>\n",
       "      <td>0.005678</td>\n",
       "    </tr>\n",
       "    <tr>\n",
       "      <th>Riots</th>\n",
       "      <td>0.109294</td>\n",
       "    </tr>\n",
       "    <tr>\n",
       "      <th>Strategic developments</th>\n",
       "      <td>0.131747</td>\n",
       "    </tr>\n",
       "    <tr>\n",
       "      <th>Explosions/Remote violence</th>\n",
       "      <td>1.583413</td>\n",
       "    </tr>\n",
       "    <tr>\n",
       "      <th>Violence against civilians</th>\n",
       "      <td>2.515413</td>\n",
       "    </tr>\n",
       "    <tr>\n",
       "      <th>Battles</th>\n",
       "      <td>4.642525</td>\n",
       "    </tr>\n",
       "  </tbody>\n",
       "</table>\n",
       "</div>"
      ],
      "text/plain": [
       "                            FATALITIES\n",
       "EVENT_TYPE                            \n",
       "Protests                      0.005678\n",
       "Riots                         0.109294\n",
       "Strategic developments        0.131747\n",
       "Explosions/Remote violence    1.583413\n",
       "Violence against civilians    2.515413\n",
       "Battles                       4.642525"
      ]
     },
     "execution_count": 142,
     "metadata": {},
     "output_type": "execute_result"
    }
   ],
   "source": [
    "# Understand the average number of fatalites for an event type\n",
    "ACLED.groupby('EVENT_TYPE').agg({'FATALITIES': 'mean'}).sort_values(by='FATALITIES')"
   ]
  },
  {
   "cell_type": "markdown",
   "metadata": {},
   "source": [
    "To perform the intended analysis the EVENT_DATE field will need to be transformed to a datetime datatype and be made the index "
   ]
  },
  {
   "cell_type": "code",
   "execution_count": null,
   "metadata": {},
   "outputs": [],
   "source": [
    "# Format DATE field to a date datatype\n",
    "ACLED['DATE'] = ACLED['EVENT_DATE'].apply(lambda x:datetime.strptime(x, '%d-%B-%Y'))"
   ]
  },
  {
   "cell_type": "code",
   "execution_count": null,
   "metadata": {},
   "outputs": [],
   "source": [
    "# Use DATE field to calculate the month and assign to MONTH column\n",
    "ACLED['MONTH'] = ACLED['DATE'].apply(lambda x:x.month)"
   ]
  },
  {
   "cell_type": "code",
   "execution_count": null,
   "metadata": {},
   "outputs": [
    {
     "data": {
      "text/html": [
       "<div>\n",
       "<style scoped>\n",
       "    .dataframe tbody tr th:only-of-type {\n",
       "        vertical-align: middle;\n",
       "    }\n",
       "\n",
       "    .dataframe tbody tr th {\n",
       "        vertical-align: top;\n",
       "    }\n",
       "\n",
       "    .dataframe thead tr th {\n",
       "        text-align: left;\n",
       "    }\n",
       "\n",
       "    .dataframe thead tr:last-of-type th {\n",
       "        text-align: right;\n",
       "    }\n",
       "</style>\n",
       "<table border=\"1\" class=\"dataframe\">\n",
       "  <thead>\n",
       "    <tr>\n",
       "      <th></th>\n",
       "      <th colspan=\"5\" halign=\"left\">FATALITIES</th>\n",
       "    </tr>\n",
       "    <tr>\n",
       "      <th></th>\n",
       "      <th>sum</th>\n",
       "      <th>mean</th>\n",
       "      <th>median</th>\n",
       "      <th>std</th>\n",
       "      <th>max</th>\n",
       "    </tr>\n",
       "    <tr>\n",
       "      <th>MONTH</th>\n",
       "      <th></th>\n",
       "      <th></th>\n",
       "      <th></th>\n",
       "      <th></th>\n",
       "      <th></th>\n",
       "    </tr>\n",
       "  </thead>\n",
       "  <tbody>\n",
       "    <tr>\n",
       "      <th>1</th>\n",
       "      <td>31661</td>\n",
       "      <td>2.044492</td>\n",
       "      <td>0</td>\n",
       "      <td>7.961639</td>\n",
       "      <td>469</td>\n",
       "    </tr>\n",
       "    <tr>\n",
       "      <th>2</th>\n",
       "      <td>24954</td>\n",
       "      <td>1.779505</td>\n",
       "      <td>0</td>\n",
       "      <td>5.917949</td>\n",
       "      <td>300</td>\n",
       "    </tr>\n",
       "    <tr>\n",
       "      <th>3</th>\n",
       "      <td>30768</td>\n",
       "      <td>2.100061</td>\n",
       "      <td>0</td>\n",
       "      <td>7.079468</td>\n",
       "      <td>230</td>\n",
       "    </tr>\n",
       "    <tr>\n",
       "      <th>4</th>\n",
       "      <td>28321</td>\n",
       "      <td>2.160259</td>\n",
       "      <td>0</td>\n",
       "      <td>6.765969</td>\n",
       "      <td>200</td>\n",
       "    </tr>\n",
       "    <tr>\n",
       "      <th>5</th>\n",
       "      <td>23388</td>\n",
       "      <td>2.497651</td>\n",
       "      <td>0</td>\n",
       "      <td>7.881241</td>\n",
       "      <td>250</td>\n",
       "    </tr>\n",
       "    <tr>\n",
       "      <th>6</th>\n",
       "      <td>22491</td>\n",
       "      <td>2.491249</td>\n",
       "      <td>0</td>\n",
       "      <td>7.692799</td>\n",
       "      <td>250</td>\n",
       "    </tr>\n",
       "    <tr>\n",
       "      <th>7</th>\n",
       "      <td>21812</td>\n",
       "      <td>1.980209</td>\n",
       "      <td>0</td>\n",
       "      <td>7.882511</td>\n",
       "      <td>300</td>\n",
       "    </tr>\n",
       "    <tr>\n",
       "      <th>8</th>\n",
       "      <td>20600</td>\n",
       "      <td>2.097973</td>\n",
       "      <td>0</td>\n",
       "      <td>6.344251</td>\n",
       "      <td>200</td>\n",
       "    </tr>\n",
       "    <tr>\n",
       "      <th>9</th>\n",
       "      <td>20663</td>\n",
       "      <td>2.069197</td>\n",
       "      <td>0</td>\n",
       "      <td>6.287385</td>\n",
       "      <td>234</td>\n",
       "    </tr>\n",
       "    <tr>\n",
       "      <th>10</th>\n",
       "      <td>19659</td>\n",
       "      <td>2.125068</td>\n",
       "      <td>0</td>\n",
       "      <td>6.282712</td>\n",
       "      <td>220</td>\n",
       "    </tr>\n",
       "    <tr>\n",
       "      <th>11</th>\n",
       "      <td>20921</td>\n",
       "      <td>2.346456</td>\n",
       "      <td>0</td>\n",
       "      <td>6.471308</td>\n",
       "      <td>180</td>\n",
       "    </tr>\n",
       "    <tr>\n",
       "      <th>12</th>\n",
       "      <td>16020</td>\n",
       "      <td>1.720730</td>\n",
       "      <td>0</td>\n",
       "      <td>4.979407</td>\n",
       "      <td>101</td>\n",
       "    </tr>\n",
       "  </tbody>\n",
       "</table>\n",
       "</div>"
      ],
      "text/plain": [
       "      FATALITIES                                \n",
       "             sum      mean median       std  max\n",
       "MONTH                                           \n",
       "1          31661  2.044492      0  7.961639  469\n",
       "2          24954  1.779505      0  5.917949  300\n",
       "3          30768  2.100061      0  7.079468  230\n",
       "4          28321  2.160259      0  6.765969  200\n",
       "5          23388  2.497651      0  7.881241  250\n",
       "6          22491  2.491249      0  7.692799  250\n",
       "7          21812  1.980209      0  7.882511  300\n",
       "8          20600  2.097973      0  6.344251  200\n",
       "9          20663  2.069197      0  6.287385  234\n",
       "10         19659  2.125068      0  6.282712  220\n",
       "11         20921  2.346456      0  6.471308  180\n",
       "12         16020  1.720730      0  4.979407  101"
      ]
     },
     "execution_count": 145,
     "metadata": {},
     "output_type": "execute_result"
    }
   ],
   "source": [
    "ACLED.groupby('MONTH').agg({'FATALITIES': ('sum','mean','median','std', 'max')})"
   ]
  },
  {
   "cell_type": "code",
   "execution_count": null,
   "metadata": {},
   "outputs": [
    {
     "data": {
      "image/png": "[encoded data removed]",
      "text/plain": [
       "<Figure size 576x432 with 1 Axes>"
      ]
     },
     "metadata": {
      "needs_background": "light"
     },
     "output_type": "display_data"
    }
   ],
   "source": [
    "#month_summary['mean'].plot(by=\"MONTH\")\n",
    "ax = ACLED.boxplot(column='FATALITIES', by='MONTH', figsize=(8, 6))"
   ]
  },
  {
   "cell_type": "code",
   "execution_count": null,
   "metadata": {},
   "outputs": [],
   "source": [
    "# Use DATE field to calculate Day of the Week (DOW) and assign to DOW column\n",
    "ACLED['DOW'] = ACLED['DATE'].apply(lambda x:x.weekday_name)"
   ]
  },
  {
   "cell_type": "code",
   "execution_count": null,
   "metadata": {},
   "outputs": [],
   "source": [
    "ACLED.groupby('DOW',as_index=False).agg({'FATALITIES': ('sum','min', 'mean','median','std', 'max')})"
   ]
  },
  {
   "cell_type": "code",
   "execution_count": null,
   "metadata": {},
   "outputs": [],
   "source": [
    "ax = ACLED.boxplot(column='FATALITIES', by='DOW', figsize=(8, 6))"
   ]
  },
  {
   "cell_type": "code",
   "execution_count": null,
   "metadata": {},
   "outputs": [],
   "source": [
    "# Determine Season based on Month and assign to SEASON column\n",
    "def set_season(row):\n",
    "    if row == 12 or row <= 2:\n",
    "        return 'Winter'\n",
    "    elif row >= 3 and row <= 5:\n",
    "        return 'Spring'\n",
    "    elif row >= 6 and row <= 8:\n",
    "        return 'Summer'\n",
    "    else:\n",
    "        return 'Autumn'\n",
    "    \n",
    "ACLED['SEASON'] = ACLED['MONTH'].apply(set_season)\n"
   ]
  },
  {
   "cell_type": "code",
   "execution_count": null,
   "metadata": {},
   "outputs": [],
   "source": [
    "ACLED.groupby('SEASON',as_index=False).agg({'FATALITIES': ('sum','mean','median','std', 'max')})"
   ]
  },
  {
   "cell_type": "code",
   "execution_count": null,
   "metadata": {},
   "outputs": [],
   "source": [
    "ax = ACLED.boxplot(column='FATALITIES', by='SEASON', figsize=(8, 6))"
   ]
  },
  {
   "cell_type": "code",
   "execution_count": null,
   "metadata": {},
   "outputs": [],
   "source": [
    "ACLED.head()"
   ]
  },
  {
   "cell_type": "code",
   "execution_count": null,
   "metadata": {},
   "outputs": [],
   "source": [
    "col_of_interest = ['COUNTRY', 'LOCATION','EVENT_TYPE', 'SUB_EVENT_TYPE', 'INTER1', 'INTER2', 'DATE', 'YEAR', 'SEASON','MONTH', 'DOW', 'FATALITIES']\n",
    "sub_acled = ACLED.loc[:,col_of_interest]"
   ]
  },
  {
   "cell_type": "code",
   "execution_count": null,
   "metadata": {},
   "outputs": [],
   "source": [
    "sub_acled.head()"
   ]
  },
  {
   "cell_type": "code",
   "execution_count": null,
   "metadata": {},
   "outputs": [],
   "source": [
    "# Dummy-code columns of interest\n",
    "sub_acled = pd.get_dummies(sub_acled, columns=['COUNTRY', 'SUB_EVENT_TYPE', 'EVENT_TYPE',  'INTER1', 'INTER2', 'YEAR', 'SEASON','MONTH', 'DOW'])\n",
    "sub_acled.head()"
   ]
  },
  {
   "cell_type": "markdown",
   "metadata": {},
   "source": [
    "### 3.1.2 Analysing numerical variables"
   ]
  },
  {
   "cell_type": "code",
   "execution_count": null,
   "metadata": {},
   "outputs": [],
   "source": [
    "# Get the correlation of all variables\n",
    "sub_acled.corr()"
   ]
  },
  {
   "cell_type": "code",
   "execution_count": null,
   "metadata": {},
   "outputs": [],
   "source": [
    "# Heatmap of correlation matrix\n",
    "fig, ax = plt.subplots(figsize=(20,20))         \n",
    "sns.heatmap(sub_acled.corr(),vmin=-1, vmax=1,cmap=sns.diverging_palette(h_neg=220, h_pos=10, n=21), linewidths=.5, ax=ax);"
   ]
  },
  {
   "cell_type": "markdown",
   "metadata": {},
   "source": [
    "The above shows expected correlations between similar fields, i.e. event types and subevent types, Months correlating to other months, etc.  There does not appear to be a strong correlation between fatalities and the other variables, with the exception of YEAR_2016. But, there does appear to be some moderate correlation between certain months or years and particular event types as well as certain countries and the type of actors or event types. "
   ]
  },
  {
   "cell_type": "markdown",
   "metadata": {},
   "source": [
    "# 4. First Pass Model\n"
   ]
  },
  {
   "cell_type": "code",
   "execution_count": null,
   "metadata": {},
   "outputs": [],
   "source": [
    "# import relevant modules\n",
    "from sklearn.model_selection import train_test_split\n",
    "from sklearn.linear_model import LinearRegression\n",
    "\n",
    "#set feature cols as all columns of sub_acled except LOCATION DATE and FATALITIES\n",
    "feature_cols = sub_acled.drop(['LOCATION', 'FATALITIES', 'DATE'], axis =1).columns\n",
    "\n",
    "X = sub_acled.loc[:, feature_cols]\n",
    "y = sub_acled.loc[:, 'FATALITIES']"
   ]
  },
  {
   "cell_type": "code",
   "execution_count": null,
   "metadata": {},
   "outputs": [],
   "source": [
    "#Perform train_test split\n",
    "X_train, X_test, y_train, y_test = train_test_split(X, y, random_state=123)"
   ]
  },
  {
   "cell_type": "code",
   "execution_count": null,
   "metadata": {},
   "outputs": [],
   "source": [
    "# run preliminary model\n",
    "linreg = LinearRegression()\n",
    "linreg.fit(X_train, y_train)"
   ]
  },
  {
   "cell_type": "code",
   "execution_count": null,
   "metadata": {},
   "outputs": [],
   "source": [
    "# asses model score\n",
    "linreg.score(X_test, y_test)"
   ]
  },
  {
   "cell_type": "markdown",
   "metadata": {},
   "source": [
    "This initial model only explains 9% of the variation in the dataset.  To try to create a better model the data was aggregated by week and a new linear model was created without Season, Day, Month information."
   ]
  },
  {
   "cell_type": "code",
   "execution_count": null,
   "metadata": {},
   "outputs": [],
   "source": [
    "# resample data to aggregate in 1 Week increments\n",
    "feature_cols =  sub_acled.drop(['LOCATION', 'FATALITIES', 'DATE','YEAR_2016', 'YEAR_2017', \\\n",
    "       'YEAR_2018', 'YEAR_2019', 'SEASON_Autumn', 'SEASON_Spring',\\\n",
    "       'SEASON_Summer', 'SEASON_Winter', 'MONTH_1', 'MONTH_2', 'MONTH_3',\\\n",
    "       'MONTH_4', 'MONTH_5', 'MONTH_6', 'MONTH_7', 'MONTH_8', 'MONTH_9',\\\n",
    "       'MONTH_10', 'MONTH_11', 'MONTH_12', 'DOW_Friday', 'DOW_Monday',\\\n",
    "       'DOW_Saturday', 'DOW_Sunday', 'DOW_Thursday', 'DOW_Tuesday', 'DOW_Wednesday'], axis =1).columns\n",
    "sub_acled.set_index('DATE', inplace=True)\n",
    "sub_acled_resample = sub_acled.resample('1W').sum()"
   ]
  },
  {
   "cell_type": "code",
   "execution_count": null,
   "metadata": {},
   "outputs": [],
   "source": [
    "sub_acled_resample.head()"
   ]
  },
  {
   "cell_type": "code",
   "execution_count": null,
   "metadata": {},
   "outputs": [],
   "source": [
    "X = sub_acled_resample.loc[:, feature_cols]\n",
    "y = sub_acled_resample.loc[:, 'FATALITIES']\n",
    "#Perform train_test split\n",
    "X_train, X_test, y_train, y_test = train_test_split(X, y, random_state=123)\n",
    "# run preliminary model\n",
    "linreg = LinearRegression()\n",
    "linreg.fit(X_train, y_train)\n",
    "# asses model score\n",
    "linreg.score(X_test, y_test)"
   ]
  },
  {
   "cell_type": "markdown",
   "metadata": {},
   "source": [
    "This model was a significant improvement over the initial model, explaining 52% of the variation in the dataset compared to 9%.  Future iterations will further explor relevant fields and the utility the date season information, as well as the use of a timeshift for predicting future violence. "
   ]
  },
  {
   "cell_type": "code",
   "execution_count": null,
   "metadata": {},
   "outputs": [],
   "source": [
    "# Heatmap of resampled dataset correlation matrix\n",
    "fig, ax = plt.subplots(figsize=(20,20))         \n",
    "sns.heatmap(sub_acled_resample.corr(),vmin=-1, vmax=1,cmap=sns.diverging_palette(h_neg=220, h_pos=10, n=21), linewidths=.5, ax=ax);"
   ]
  },
  {
   "cell_type": "markdown",
   "metadata": {},
   "source": [
    "The resampled dataset appears to have much higher correlation to Fatalities. With the exception being the month variables."
   ]
  },
  {
   "cell_type": "markdown",
   "metadata": {},
   "source": [
    "# 4. Summary"
   ]
  },
  {
   "cell_type": "markdown",
   "metadata": {},
   "source": [
    " - The inital dataset has **133959** rows with **29 attributes**.\n",
    " - The dataset is primarily **non-numerical** feature variables. \n",
    " - The non-numerical feature variables were reclassified and transformed into dummy variabeles for use in the planned prediction model.\n",
    " - The columns of interest **do not contain null values**.\n",
    " - **Aggregating data by week appeared to create a much stronger model**. However, the resulting model does not tell us **where** violence may occur. \n",
    " \n"
   ]
  },
  {
   "cell_type": "markdown",
   "metadata": {},
   "source": [
    "# 5. Conclusion "
   ]
  },
  {
   "cell_type": "markdown",
   "metadata": {},
   "source": [
    "Additional data manipulation will need to occur to create a useful model of reasonable predictive strength. Specifically, aggregation will need to occur in a manner that also allows the model to account for country in which events occur. \n",
    "Then, date/season variables will be re-calculated based on the Date Index and, a timeshift will need to be performed to assess if previous events are predictive of future events. "
   ]
  }
 ],
 "metadata": {
  "kernelspec": {
   "display_name": "Python 3",
   "language": "python",
   "name": "python3"
  },
  "language_info": {
   "codemirror_mode": {
    "name": "ipython",
    "version": 3
   },
   "file_extension": ".py",
   "mimetype": "text/x-python",
   "name": "python",
   "nbconvert_exporter": "python",
   "pygments_lexer": "ipython3",
   "version": "3.6.8"
  }
 },
 "nbformat": 4,
 "nbformat_minor": 2
}
